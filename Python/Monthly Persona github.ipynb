{
 "cells": [
  {
   "cell_type": "code",
   "execution_count": 1,
   "metadata": {},
   "outputs": [],
   "source": [
    "import findspark\n",
    "\n",
    "findspark.init()"
   ]
  },
  {
   "cell_type": "code",
   "execution_count": 2,
   "metadata": {},
   "outputs": [],
   "source": [
    "import os\n",
    "import sys\n",
    "\n",
    "os.environ['PYSPARK_PYTHON'] = sys.executable\n",
    "os.environ['PYSPARK_DRIVER_PYTHON'] = 'jupyter'\n",
    "os.environ['PYSPARK_DRIVER_PYTHON_OPTS'] = 'notebook' # Add HADOOP_HOME to PATH VARIABLE\n",
    "os.environ[\"HADOOP_HOME\"] = \"D:\\\\HADOOP\\\\hadoop-3.4.0-win10-x64\\\\\"\n",
    "os.environ[\"PATH\"] += os.pathsep + \"%JAVA_HOME%\\\\bin\" + os.pathsep + \"D:\\\\HADOOP\\\\hadoop-3.4.0-win10-x64\\\\bin\""
   ]
  },
  {
   "cell_type": "code",
   "execution_count": 3,
   "metadata": {},
   "outputs": [],
   "source": [
    "import pandas as pd\n",
    "from pyspark.sql.session import SparkSession\n",
    "from pyspark.conf import SparkConf\n",
    "from pyspark.sql.functions import when\n",
    "from pyspark.sql.functions import col\n",
    "from pyspark.sql.functions import to_date\n",
    "from pyspark.sql.functions import year\n",
    "from pyspark.sql.functions import month\n",
    "\n",
    "conf = SparkConf() \\\n",
    "    .set(\"spark.sql.adaptive.enabled\", True) \\\n",
    "    .set(\"spark.driver.memory\", \"20g\") \\\n",
    "    .set(\"spark.executor.memory\", \"20g\") \\\n",
    "    .set(\"spark.sql.execution.arrow.pyspark.enabled\", True) \\\n",
    "    .set('spark.sql.repl.eagerEval.enabled', True) \\\n",
    "    .set(\"spark.shuffle.consolidateFiles\", True) \\\n",
    "    .set(\"spark.driver.maxResultSize\", \"20g\")\n",
    "\n",
    "spark = SparkSession\\\n",
    "    .builder \\\n",
    "    .appName('Monthly Persona')\\\n",
    "    .config(conf=conf)\\\n",
    "    .getOrCreate()"
   ]
  },
  {
   "cell_type": "code",
   "execution_count": 4,
   "metadata": {},
   "outputs": [
    {
     "data": {
      "text/html": [
       "\n",
       "            <div>\n",
       "                <p><b>SparkSession - in-memory</b></p>\n",
       "                \n",
       "        <div>\n",
       "            <p><b>SparkContext</b></p>\n",
       "\n",
       "            <p><a href=\"http://HOTHMKDSN011.homepro.root.local:4040\">Spark UI</a></p>\n",
       "\n",
       "            <dl>\n",
       "              <dt>Version</dt>\n",
       "                <dd><code>v3.4.1</code></dd>\n",
       "              <dt>Master</dt>\n",
       "                <dd><code>local[*]</code></dd>\n",
       "              <dt>AppName</dt>\n",
       "                <dd><code>Monthly Persona</code></dd>\n",
       "            </dl>\n",
       "        </div>\n",
       "        \n",
       "            </div>\n",
       "        "
      ],
      "text/plain": [
       "<pyspark.sql.session.SparkSession at 0x2532f823010>"
      ]
     },
     "execution_count": 4,
     "metadata": {},
     "output_type": "execute_result"
    }
   ],
   "source": [
    "spark"
   ]
  },
  {
   "cell_type": "code",
   "execution_count": 5,
   "metadata": {},
   "outputs": [],
   "source": [
    "from pyspark.sql import functions as F"
   ]
  },
  {
   "cell_type": "code",
   "execution_count": 6,
   "metadata": {},
   "outputs": [],
   "source": [
    "# 2023\n",
    "df = spark.read.parquet(r\"D:\\Users\\TEST\\2023_raw_transaction_with_article.parquet\\part-00000-d571a0ee-d9db-4a2c-8716-73f7e9a59db0-c000.snappy.parquet\")"
   ]
  },
  {
   "cell_type": "code",
   "execution_count": 7,
   "metadata": {},
   "outputs": [
    {
     "name": "stdout",
     "output_type": "stream",
     "text": [
      "root\n",
      " |-- BILLING_DATE: date (nullable = true)\n",
      " |-- TICKET_NO: string (nullable = true)\n",
      " |-- STORE: string (nullable = true)\n",
      " |-- STORE_ZONE: string (nullable = true)\n",
      " |-- STORE_ZONE_GRP: string (nullable = true)\n",
      " |-- ARTICLE: integer (nullable = true)\n",
      " |-- MC: string (nullable = true)\n",
      " |-- MCH2: string (nullable = true)\n",
      " |-- MCH3: string (nullable = true)\n",
      " |-- BRAND: string (nullable = true)\n",
      " |-- SALES_QTY: double (nullable = true)\n",
      " |-- APPROXIMATE_SALES: double (nullable = true)\n",
      " |-- MAIN_IDENTIFIER_NO: string (nullable = true)\n",
      " |-- APPLY_DATE: string (nullable = true)\n",
      " |-- MEMBER_STATUS: string (nullable = true)\n",
      " |-- TENDER_ID: string (nullable = true)\n",
      " |-- CREDIT_CARD_PROVIDER: string (nullable = true)\n",
      " |-- Tender_Type6: string (nullable = true)\n",
      " |-- Tender_Type2: string (nullable = true)\n",
      " |-- Tender_Type: string (nullable = true)\n",
      " |-- MST_TENDER_TYPE: string (nullable = true)\n",
      " |-- TIER_NAME: string (nullable = true)\n",
      " |-- HOMECARD_PROCARD: string (nullable = true)\n",
      " |-- BILLING_YEAR: integer (nullable = true)\n",
      " |-- BILLING_MONTH: integer (nullable = true)\n",
      " |-- BILLING_MY: string (nullable = true)\n",
      " |-- CUSTOMER_SEGMENT: string (nullable = true)\n",
      " |-- STORE_GROUP: string (nullable = true)\n",
      " |-- MC_product_tier: string (nullable = true)\n",
      " |-- GENERATIONS: string (nullable = true)\n",
      "\n"
     ]
    }
   ],
   "source": [
    "df.printSchema()"
   ]
  },
  {
   "cell_type": "code",
   "execution_count": 9,
   "metadata": {},
   "outputs": [],
   "source": [
    "df2 = df.filter(df[\"CUST_ID\"] != 'NULL')"
   ]
  },
  {
   "cell_type": "code",
   "execution_count": 10,
   "metadata": {},
   "outputs": [],
   "source": [
    "construction = ['BM','DW','HT','HW','PA','PB','PT','BR','FC','LT','DH','ET']"
   ]
  },
  {
   "cell_type": "code",
   "execution_count": 11,
   "metadata": {},
   "outputs": [],
   "source": [
    "technician = df2.filter(df2[\"MCH3\"].isin(construction))"
   ]
  },
  {
   "cell_type": "code",
   "execution_count": 12,
   "metadata": {},
   "outputs": [],
   "source": [
    "use_col = ['MCH3', 'MCH2', 'MC', 'ARTICLE','STORE_GROUP']"
   ]
  },
  {
   "cell_type": "code",
   "execution_count": 13,
   "metadata": {},
   "outputs": [],
   "source": [
    "technician_pandas = technician.groupBy(*use_col).agg(F.sum(F.col('SALES_QTY')).alias('Sum_QTY'),\n",
    "                          F.sum(F.col('APPROXIMATE_SALES')).alias('Sum_Sales'),\n",
    "                          F.countDistinct(F.col('MAIN_IDENTIFIER_NO')).alias('Member'),\n",
    "                          F.countDistinct(F.col('TICKET_NO')).alias('Transaction')\n",
    "                          ).toPandas()"
   ]
  },
  {
   "cell_type": "code",
   "execution_count": null,
   "metadata": {},
   "outputs": [
    {
     "data": {
      "text/html": [
       "<div>\n",
       "<style scoped>\n",
       "    .dataframe tbody tr th:only-of-type {\n",
       "        vertical-align: middle;\n",
       "    }\n",
       "\n",
       "    .dataframe tbody tr th {\n",
       "        vertical-align: top;\n",
       "    }\n",
       "\n",
       "    .dataframe thead th {\n",
       "        text-align: right;\n",
       "    }\n",
       "</style>\n",
       "<table border=\"1\" class=\"dataframe\">\n",
       "  <thead>\n",
       "    <tr style=\"text-align: right;\">\n",
       "      <th></th>\n",
       "      <th>MCH3</th>\n",
       "      <th>MCH2</th>\n",
       "      <th>MC</th>\n",
       "      <th>ARTICLE</th>\n",
       "      <th>STORE_GROUP</th>\n",
       "      <th>Sum_QTY</th>\n",
       "      <th>Sum_Sales</th>\n",
       "      <th>Member</th>\n",
       "      <th>Transaction</th>\n",
       "    </tr>\n",
       "  </thead>\n",
       "  <tbody>\n",
       "    <tr>\n",
       "      <th>0</th>\n",
       "      <td>BM</td>\n",
       "      <td>BM01</td>\n",
       "      <td>BM010202</td>\n",
       "      <td>1040813</td>\n",
       "      <td>ONLINE</td>\n",
       "      <td>59.0</td>\n",
       "      <td>138650.000000</td>\n",
       "      <td>14</td>\n",
       "      <td>19</td>\n",
       "    </tr>\n",
       "    <tr>\n",
       "      <th>1</th>\n",
       "      <td>BM</td>\n",
       "      <td>BM01</td>\n",
       "      <td>BM010401</td>\n",
       "      <td>1181554</td>\n",
       "      <td>ONLINE</td>\n",
       "      <td>24.0</td>\n",
       "      <td>23830.000000</td>\n",
       "      <td>10</td>\n",
       "      <td>14</td>\n",
       "    </tr>\n",
       "    <tr>\n",
       "      <th>2</th>\n",
       "      <td>BM</td>\n",
       "      <td>BM02</td>\n",
       "      <td>BM020101</td>\n",
       "      <td>1127245</td>\n",
       "      <td>MEGAHOME</td>\n",
       "      <td>11202.0</td>\n",
       "      <td>964039.150781</td>\n",
       "      <td>103</td>\n",
       "      <td>173</td>\n",
       "    </tr>\n",
       "    <tr>\n",
       "      <th>3</th>\n",
       "      <td>BM</td>\n",
       "      <td>BM02</td>\n",
       "      <td>BM020101</td>\n",
       "      <td>1205598</td>\n",
       "      <td>HOMEPRO</td>\n",
       "      <td>506.0</td>\n",
       "      <td>58051.410000</td>\n",
       "      <td>6</td>\n",
       "      <td>15</td>\n",
       "    </tr>\n",
       "    <tr>\n",
       "      <th>4</th>\n",
       "      <td>BM</td>\n",
       "      <td>BM02</td>\n",
       "      <td>BM020105</td>\n",
       "      <td>1205577</td>\n",
       "      <td>MEGAHOME</td>\n",
       "      <td>15367.0</td>\n",
       "      <td>730925.873539</td>\n",
       "      <td>274</td>\n",
       "      <td>394</td>\n",
       "    </tr>\n",
       "  </tbody>\n",
       "</table>\n",
       "</div>"
      ],
      "text/plain": [
       "  MCH3  MCH2        MC  ARTICLE STORE_GROUP  Sum_QTY      Sum_Sales  Member  \\\n",
       "0   BM  BM01  BM010202  1040813      ONLINE     59.0  138650.000000      14   \n",
       "1   BM  BM01  BM010401  1181554      ONLINE     24.0   23830.000000      10   \n",
       "2   BM  BM02  BM020101  1127245    MEGAHOME  11202.0  964039.150781     103   \n",
       "3   BM  BM02  BM020101  1205598     HOMEPRO    506.0   58051.410000       6   \n",
       "4   BM  BM02  BM020105  1205577    MEGAHOME  15367.0  730925.873539     274   \n",
       "\n",
       "   Transaction  \n",
       "0           19  \n",
       "1           14  \n",
       "2          173  \n",
       "3           15  \n",
       "4          394  "
      ]
     },
     "execution_count": 22,
     "metadata": {},
     "output_type": "execute_result"
    }
   ],
   "source": [
    "technician_pandas.head()"
   ]
  },
  {
   "cell_type": "code",
   "execution_count": 14,
   "metadata": {},
   "outputs": [
    {
     "data": {
      "text/plain": [
       "array(['BM', 'BR', 'DH', 'DW', 'ET', 'FC', 'HT', 'HW', 'LT', 'PA', 'PB',\n",
       "       'PT'], dtype=object)"
      ]
     },
     "execution_count": 14,
     "metadata": {},
     "output_type": "execute_result"
    }
   ],
   "source": [
    "technician_pandas['MCH3'].unique()"
   ]
  },
  {
   "cell_type": "code",
   "execution_count": 28,
   "metadata": {},
   "outputs": [],
   "source": [
    "technician_pandas.to_csv(\"technician2.csv\")"
   ]
  }
 ],
 "metadata": {
  "kernelspec": {
   "display_name": "base",
   "language": "python",
   "name": "python3"
  },
  "language_info": {
   "codemirror_mode": {
    "name": "ipython",
    "version": 3
   },
   "file_extension": ".py",
   "mimetype": "text/x-python",
   "name": "python",
   "nbconvert_exporter": "python",
   "pygments_lexer": "ipython3",
   "version": "3.11.5"
  }
 },
 "nbformat": 4,
 "nbformat_minor": 2
}
