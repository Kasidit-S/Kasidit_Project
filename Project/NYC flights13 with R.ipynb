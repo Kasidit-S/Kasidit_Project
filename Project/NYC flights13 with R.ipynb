{
 "cells":[
  {
   "cell_type":"code",
   "source":[
    "library(dplyr)\n",
    "\n",
    "library(tidyverse)"
   ],
   "execution_count":36,
   "outputs":[
    
   ],
   "metadata":{
    "datalore":{
     "node_id":"3WjX4K9SWVpUqOZBixgC1O",
     "type":"CODE",
     "hide_input_from_viewers":true,
     "hide_output_from_viewers":true
    }
   }
  },
  {
   "cell_type":"code",
   "source":[
    "flights <- read.csv(\"flights.csv\", stringsAsFactors = FALSE)\n",
    "\n",
    "airlines <- read.csv(\"airlines.csv\")\n",
    "\n",
    "glimpse(flights)\n",
    "\n",
    "glimpse(airlines)\n",
    " "
   ],
   "execution_count":37,
   "outputs":[
    {
     "name":"stdout",
     "text":[
      "Rows: 336,776\n",
      "Columns: 19\n",
      "$ year           \u001b[3m\u001b[90m<int>\u001b[39m\u001b[23m 2013, 2013, 2013, 2013, 2013, 2013, 2013, 2013, 2013, 2…\n",
      "$ month          \u001b[3m\u001b[90m<int>\u001b[39m\u001b[23m 1, 1, 1, 1, 1, 1, 1, 1, 1, 1, 1, 1, 1, 1, 1, 1, 1, 1, 1…\n",
      "$ day            \u001b[3m\u001b[90m<int>\u001b[39m\u001b[23m 1, 1, 1, 1, 1, 1, 1, 1, 1, 1, 1, 1, 1, 1, 1, 1, 1, 1, 1…\n",
      "$ dep_time       \u001b[3m\u001b[90m<int>\u001b[39m\u001b[23m 517, 533, 542, 544, 554, 554, 555, 557, 557, 558, 558, …\n",
      "$ sched_dep_time \u001b[3m\u001b[90m<int>\u001b[39m\u001b[23m 515, 529, 540, 545, 600, 558, 600, 600, 600, 600, 600, …\n",
      "$ dep_delay      \u001b[3m\u001b[90m<int>\u001b[39m\u001b[23m 2, 4, 2, -1, -6, -4, -5, -3, -3, -2, -2, -2, -2, -2, -1…\n",
      "$ arr_time       \u001b[3m\u001b[90m<int>\u001b[39m\u001b[23m 830, 850, 923, 1004, 812, 740, 913, 709, 838, 753, 849,…\n",
      "$ sched_arr_time \u001b[3m\u001b[90m<int>\u001b[39m\u001b[23m 819, 830, 850, 1022, 837, 728, 854, 723, 846, 745, 851,…\n",
      "$ arr_delay      \u001b[3m\u001b[90m<int>\u001b[39m\u001b[23m 11, 20, 33, -18, -25, 12, 19, -14, -8, 8, -2, -3, 7, -1…\n",
      "$ carrier        \u001b[3m\u001b[90m<chr>\u001b[39m\u001b[23m \"UA\", \"UA\", \"AA\", \"B6\", \"DL\", \"UA\", \"B6\", \"EV\", \"B6\", \"…\n",
      "$ flight         \u001b[3m\u001b[90m<int>\u001b[39m\u001b[23m 1545, 1714, 1141, 725, 461, 1696, 507, 5708, 79, 301, 4…\n",
      "$ tailnum        \u001b[3m\u001b[90m<chr>\u001b[39m\u001b[23m \"N14228\", \"N24211\", \"N619AA\", \"N804JB\", \"N668DN\", \"N394…\n",
      "$ origin         \u001b[3m\u001b[90m<chr>\u001b[39m\u001b[23m \"EWR\", \"LGA\", \"JFK\", \"JFK\", \"LGA\", \"EWR\", \"EWR\", \"LGA\",…\n",
      "$ dest           \u001b[3m\u001b[90m<chr>\u001b[39m\u001b[23m \"IAH\", \"IAH\", \"MIA\", \"BQN\", \"ATL\", \"ORD\", \"FLL\", \"IAD\",…\n",
      "$ air_time       \u001b[3m\u001b[90m<int>\u001b[39m\u001b[23m 227, 227, 160, 183, 116, 150, 158, 53, 140, 138, 149, 1…\n",
      "$ distance       \u001b[3m\u001b[90m<int>\u001b[39m\u001b[23m 1400, 1416, 1089, 1576, 762, 719, 1065, 229, 944, 733, …\n",
      "$ hour           \u001b[3m\u001b[90m<int>\u001b[39m\u001b[23m 5, 5, 5, 5, 6, 5, 6, 6, 6, 6, 6, 6, 6, 6, 6, 5, 6, 6, 6…\n",
      "$ minute         \u001b[3m\u001b[90m<int>\u001b[39m\u001b[23m 15, 29, 40, 45, 0, 58, 0, 0, 0, 0, 0, 0, 0, 0, 0, 59, 0…\n",
      "$ time_hour      \u001b[3m\u001b[90m<chr>\u001b[39m\u001b[23m \"2013-01-01T10:00:00Z\", \"2013-01-01T10:00:00Z\", \"2013-0…\n",
      "Rows: 16\n",
      "Columns: 2\n",
      "$ carrier \u001b[3m\u001b[90m<chr>\u001b[39m\u001b[23m \"9E\", \"AA\", \"AS\", \"B6\", \"DL\", \"EV\", \"F9\", \"FL\", \"HA\", \"MQ\", \"O…\n",
      "$ name    \u001b[3m\u001b[90m<chr>\u001b[39m\u001b[23m \"Endeavor Air Inc.\", \"American Airlines Inc.\", \"Alaska Airline…\n"
     ],
     "output_type":"stream"
    }
   ],
   "metadata":{
    "datalore":{
     "node_id":"0o7gR36JZxDSbV7hpyaenp",
     "type":"CODE",
     "hide_input_from_viewers":true,
     "hide_output_from_viewers":true
    }
   }
  },
  {
   "cell_type":"markdown",
   "source":[
    "# Q1: How many flights in 2013 ?"
   ],
   "attachments":{
    
   },
   "metadata":{
    "datalore":{
     "node_id":"FMXqAzLwdbOgvxSFF7x9Vf",
     "type":"MD",
     "hide_input_from_viewers":true,
     "hide_output_from_viewers":true
    }
   }
  },
  {
   "cell_type":"code",
   "source":[
    "flights %>%\n",
    "count(year, name = \"flight\")"
   ],
   "execution_count":38,
   "outputs":[
    {
     "data":{
      "text\/html":[
       "<table class=\"dataframe\">\n",
       "<caption>A data.frame: 1 × 2<\/caption>\n",
       "<thead>\n",
       "\t<tr><th scope=col>year<\/th><th scope=col>flight<\/th><\/tr>\n",
       "\t<tr><th scope=col>&lt;int&gt;<\/th><th scope=col>&lt;int&gt;<\/th><\/tr>\n",
       "<\/thead>\n",
       "<tbody>\n",
       "\t<tr><td>2013<\/td><td>336776<\/td><\/tr>\n",
       "<\/tbody>\n",
       "<\/table>\n"
      ]
     },
     "metadata":{
      
     },
     "output_type":"display_data"
    }
   ],
   "metadata":{
    "datalore":{
     "node_id":"dYOQBF9FcNQpTnu1RgWflT",
     "type":"CODE",
     "hide_input_from_viewers":true,
     "hide_output_from_viewers":true
    }
   }
  },
  {
   "cell_type":"markdown",
   "source":[
    "# Q2:What is the most airline flight ?"
   ],
   "attachments":{
    
   },
   "metadata":{
    "datalore":{
     "node_id":"HQaxQCvidiOCsuzY9aYUWx",
     "type":"MD",
     "hide_input_from_viewers":true,
     "hide_output_from_viewers":true
    }
   }
  },
  {
   "cell_type":"code",
   "source":[
    "flights %>%\n",
    "  count(carrier , name = \"flights\") %>%\n",
    "  arrange(desc(flights)) %>% \n",
    "  left_join(airlines) %>% \n",
    "  head(1)\n"
   ],
   "execution_count":53,
   "outputs":[
    {
     "name":"stderr",
     "text":[
      "Joining, by = \"carrier\"\n",
      "\n"
     ],
     "output_type":"stream"
    },
    {
     "data":{
      "text\/html":[
       "<table class=\"dataframe\">\n",
       "<caption>A data.frame: 1 × 3<\/caption>\n",
       "<thead>\n",
       "\t<tr><th><\/th><th scope=col>carrier<\/th><th scope=col>flights<\/th><th scope=col>name<\/th><\/tr>\n",
       "\t<tr><th><\/th><th scope=col>&lt;chr&gt;<\/th><th scope=col>&lt;int&gt;<\/th><th scope=col>&lt;chr&gt;<\/th><\/tr>\n",
       "<\/thead>\n",
       "<tbody>\n",
       "\t<tr><th scope=row>1<\/th><td>UA<\/td><td>58665<\/td><td>United Air Lines Inc.<\/td><\/tr>\n",
       "<\/tbody>\n",
       "<\/table>\n"
      ]
     },
     "metadata":{
      
     },
     "output_type":"display_data"
    }
   ],
   "metadata":{
    "datalore":{
     "node_id":"DLfzWuYApVJ11RQhPgRBN2",
     "type":"CODE",
     "hide_input_from_viewers":true,
     "hide_output_from_viewers":true
    }
   }
  },
  {
   "cell_type":"markdown",
   "source":[
    "# Q3: What is the most delay airline ?"
   ],
   "attachments":{
    
   },
   "metadata":{
    "datalore":{
     "node_id":"vr35p0ZnWM6KdDqVWPMbaV",
     "type":"MD",
     "hide_input_from_viewers":true,
     "hide_output_from_viewers":true
    }
   }
  },
  {
   "cell_type":"code",
   "source":[
    "flights %>%\n",
    "  filter(arr_delay < 0) %>%\n",
    "  count(carrier , name = \"flights\") %>%\n",
    "  arrange(desc(flights)) %>% \n",
    "  left_join(airlines) %>% \n",
    "  head(1)"
   ],
   "execution_count":144,
   "outputs":[
    {
     "name":"stderr",
     "text":[
      "Joining, by = \"carrier\"\n",
      "\n"
     ],
     "output_type":"stream"
    },
    {
     "data":{
      "text\/html":[
       "<table class=\"dataframe\">\n",
       "<caption>A data.frame: 1 × 3<\/caption>\n",
       "<thead>\n",
       "\t<tr><th><\/th><th scope=col>carrier<\/th><th scope=col>flights<\/th><th scope=col>name<\/th><\/tr>\n",
       "\t<tr><th><\/th><th scope=col>&lt;chr&gt;<\/th><th scope=col>&lt;int&gt;<\/th><th scope=col>&lt;chr&gt;<\/th><\/tr>\n",
       "<\/thead>\n",
       "<tbody>\n",
       "\t<tr><th scope=row>1<\/th><td>UA<\/td><td>34642<\/td><td>United Air Lines Inc.<\/td><\/tr>\n",
       "<\/tbody>\n",
       "<\/table>\n"
      ]
     },
     "metadata":{
      
     },
     "output_type":"display_data"
    }
   ],
   "metadata":{
    "datalore":{
     "node_id":"8iSWNJzVkGAtLeFSatso1l",
     "type":"CODE",
     "hide_input_from_viewers":true,
     "hide_output_from_viewers":true
    }
   }
  },
  {
   "cell_type":"markdown",
   "source":[
    "# Q4: What is the percent of delay flight and flight"
   ],
   "attachments":{
    
   },
   "metadata":{
    "datalore":{
     "node_id":"SUfmeiJ18xjXq4gKqRdXIr",
     "type":"MD",
     "hide_input_from_viewers":true,
     "hide_output_from_viewers":true
    }
   }
  },
  {
   "cell_type":"code",
   "source":[
    "flight <- flights %>%\n",
    "  count(carrier , name = \"flight\")\n",
    "\n",
    "\n",
    "flights %>%\n",
    "  filter(arr_delay < 0) %>%\n",
    "  count(carrier , name = \"delay_flight\") %>%\n",
    "  left_join(flight)%>%\n",
    "  mutate(percent = (delay_flight\/flight)*100)%>%\n",
    "  arrange((percent))%>%\n",
    "  left_join(airlines)"
   ],
   "execution_count":117,
   "outputs":[
    {
     "name":"stderr",
     "text":[
      "Joining, by = \"carrier\"\n",
      "\n",
      "Joining, by = \"carrier\"\n",
      "\n"
     ],
     "output_type":"stream"
    },
    {
     "data":{
      "text\/html":[
       "<table class=\"dataframe\">\n",
       "<caption>A data.frame: 16 × 5<\/caption>\n",
       "<thead>\n",
       "\t<tr><th scope=col>carrier<\/th><th scope=col>delay_flight<\/th><th scope=col>flight<\/th><th scope=col>percent<\/th><th scope=col>name<\/th><\/tr>\n",
       "\t<tr><th scope=col>&lt;chr&gt;<\/th><th scope=col>&lt;int&gt;<\/th><th scope=col>&lt;int&gt;<\/th><th scope=col>&lt;dbl&gt;<\/th><th scope=col>&lt;chr&gt;<\/th><\/tr>\n",
       "<\/thead>\n",
       "<tbody>\n",
       "\t<tr><td>FL<\/td><td> 1211<\/td><td> 3260<\/td><td>37.14724<\/td><td>AirTran Airways Corporation<\/td><\/tr>\n",
       "\t<tr><td>F9<\/td><td>  271<\/td><td>  685<\/td><td>39.56204<\/td><td>Frontier Airlines Inc.     <\/td><\/tr>\n",
       "\t<tr><td>YV<\/td><td>  280<\/td><td>  601<\/td><td>46.58902<\/td><td>Mesa Airlines Inc.         <\/td><\/tr>\n",
       "\t<tr><td>EV<\/td><td>25823<\/td><td>54173<\/td><td>47.66766<\/td><td>ExpressJet Airlines Inc.   <\/td><\/tr>\n",
       "\t<tr><td>MQ<\/td><td>12856<\/td><td>26397<\/td><td>48.70250<\/td><td>Envoy Air                  <\/td><\/tr>\n",
       "\t<tr><td>WN<\/td><td> 6513<\/td><td>12275<\/td><td>53.05906<\/td><td>Southwest Airlines Co.     <\/td><\/tr>\n",
       "\t<tr><td>B6<\/td><td>29514<\/td><td>54635<\/td><td>54.02032<\/td><td>JetBlue Airways            <\/td><\/tr>\n",
       "\t<tr><td>9E<\/td><td>10430<\/td><td>18460<\/td><td>56.50054<\/td><td>Endeavor Air Inc.          <\/td><\/tr>\n",
       "\t<tr><td>US<\/td><td>12113<\/td><td>20536<\/td><td>58.98422<\/td><td>US Airways Inc.            <\/td><\/tr>\n",
       "\t<tr><td>UA<\/td><td>34642<\/td><td>58665<\/td><td>59.05054<\/td><td>United Air Lines Inc.      <\/td><\/tr>\n",
       "\t<tr><td>OO<\/td><td>   19<\/td><td>   32<\/td><td>59.37500<\/td><td>SkyWest Airlines Inc.      <\/td><\/tr>\n",
       "\t<tr><td>DL<\/td><td>30463<\/td><td>48110<\/td><td>63.31948<\/td><td>Delta Air Lines Inc.       <\/td><\/tr>\n",
       "\t<tr><td>AA<\/td><td>20769<\/td><td>32729<\/td><td>63.45748<\/td><td>American Airlines Inc.     <\/td><\/tr>\n",
       "\t<tr><td>VX<\/td><td> 3276<\/td><td> 5162<\/td><td>63.46377<\/td><td>Virgin America             <\/td><\/tr>\n",
       "\t<tr><td>HA<\/td><td>  241<\/td><td>  342<\/td><td>70.46784<\/td><td>Hawaiian Airlines Inc.     <\/td><\/tr>\n",
       "\t<tr><td>AS<\/td><td>  512<\/td><td>  714<\/td><td>71.70868<\/td><td>Alaska Airlines Inc.       <\/td><\/tr>\n",
       "<\/tbody>\n",
       "<\/table>\n"
      ]
     },
     "metadata":{
      
     },
     "output_type":"display_data"
    }
   ],
   "metadata":{
    "datalore":{
     "node_id":"861CXi0BZ5obsiIJMXyHrb",
     "type":"CODE",
     "hide_input_from_viewers":true,
     "hide_output_from_viewers":true
    }
   }
  },
  {
   "cell_type":"markdown",
   "source":[
    "# Q5: Summarize of distance flights"
   ],
   "attachments":{
    
   },
   "metadata":{
    "datalore":{
     "node_id":"dOQijyjFNQY7TWpNjvhkvJ",
     "type":"MD",
     "hide_input_from_viewers":true,
     "hide_output_from_viewers":true
    }
   }
  },
  {
   "cell_type":"code",
   "source":[
    "flights %>%\n",
    "  summarise(Avg_distance = mean(distance),\n",
    "            sd_distance = sd(distance),\n",
    "            min_distance = min(distance),\n",
    "            max_distance = max(distance),\n",
    "            sum_distance = sum(distance))"
   ],
   "execution_count":122,
   "outputs":[
    {
     "data":{
      "text\/html":[
       "<table class=\"dataframe\">\n",
       "<caption>A data.frame: 1 × 5<\/caption>\n",
       "<thead>\n",
       "\t<tr><th scope=col>Avg_distance<\/th><th scope=col>sd_distance<\/th><th scope=col>min_distance<\/th><th scope=col>max_distance<\/th><th scope=col>sum_distance<\/th><\/tr>\n",
       "\t<tr><th scope=col>&lt;dbl&gt;<\/th><th scope=col>&lt;dbl&gt;<\/th><th scope=col>&lt;int&gt;<\/th><th scope=col>&lt;int&gt;<\/th><th scope=col>&lt;int&gt;<\/th><\/tr>\n",
       "<\/thead>\n",
       "<tbody>\n",
       "\t<tr><td>1039.913<\/td><td>733.233<\/td><td>17<\/td><td>4983<\/td><td>350217607<\/td><\/tr>\n",
       "<\/tbody>\n",
       "<\/table>\n"
      ]
     },
     "metadata":{
      
     },
     "output_type":"display_data"
    }
   ],
   "metadata":{
    "datalore":{
     "node_id":"kQkAe5CRv1eveXDg3JTnXx",
     "type":"CODE",
     "hide_input_from_viewers":true,
     "hide_output_from_viewers":true
    }
   }
  },
  {
   "cell_type":"markdown",
   "source":[
    "# Q6: What day most flights"
   ],
   "attachments":{
    
   },
   "metadata":{
    "datalore":{
     "node_id":"V6aZYs2wqeBzN60FjRNcza",
     "type":"MD",
     "hide_input_from_viewers":true,
     "hide_output_from_viewers":true
    }
   }
  },
  {
   "cell_type":"code",
   "source":[
    "flights %>%\n",
    "group_by(month)%>%\n",
    "count(day, name = \"flights\")%>%\n",
    "arrange(desc(flights))%>%\n",
    "head(1)"
   ],
   "execution_count":143,
   "outputs":[
    {
     "data":{
      "text\/html":[
       "<table class=\"dataframe\">\n",
       "<caption>A grouped_df: 1 × 3<\/caption>\n",
       "<thead>\n",
       "\t<tr><th scope=col>month<\/th><th scope=col>day<\/th><th scope=col>flights<\/th><\/tr>\n",
       "\t<tr><th scope=col>&lt;int&gt;<\/th><th scope=col>&lt;int&gt;<\/th><th scope=col>&lt;int&gt;<\/th><\/tr>\n",
       "<\/thead>\n",
       "<tbody>\n",
       "\t<tr><td>11<\/td><td>27<\/td><td>1014<\/td><\/tr>\n",
       "<\/tbody>\n",
       "<\/table>\n"
      ]
     },
     "metadata":{
      
     },
     "output_type":"display_data"
    }
   ],
   "metadata":{
    "datalore":{
     "node_id":"RIL474etBEpjqlKDT6mgaS",
     "type":"CODE",
     "hide_input_from_viewers":true,
     "hide_output_from_viewers":true
    }
   }
  }
 ],
 "metadata":{
  "kernelspec":{
   "display_name":"R",
   "language":"r",
   "name":"ir"
  },
  "datalore":{
   "computation_mode":"JUPYTER",
   "package_manager":"conda",
   "base_environment":"minimal",
   "packages":[
    
   ],
   "report_row_ids":[
    
   ],
   "version":2
  }
 },
 "nbformat":4,
 "nbformat_minor":4
}
